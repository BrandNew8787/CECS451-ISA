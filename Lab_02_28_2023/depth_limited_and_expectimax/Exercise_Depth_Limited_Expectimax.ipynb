{
  "nbformat": 4,
  "nbformat_minor": 0,
  "metadata": {
    "colab": {
      "provenance": []
    },
    "kernelspec": {
      "name": "python3",
      "display_name": "Python 3"
    },
    "language_info": {
      "name": "python"
    }
  },
  "cells": [
    {
      "cell_type": "markdown",
      "source": [
        "##Depth limited search - Pseudocode"
      ],
      "metadata": {
        "id": "_4kyfhFUTKkb"
      }
    },
    {
      "cell_type": "markdown",
      "source": [
        "```\n",
        "function depth_limited_expectimax(node, depth):\n",
        "    if depth == 0 or node is a terminal node:\n",
        "        return the node's score\n",
        "\n",
        "    if node is a max node:\n",
        "        best_score = -infinity\n",
        "        for each child of node:\n",
        "            score = depth_limited_expectimax(child, depth - 1)\n",
        "            best_score = max(best_score, score)\n",
        "        return best_score\n",
        "\n",
        "    if node is an expect node:\n",
        "        avg_score = 0\n",
        "        num_children = 0\n",
        "        for each child of node:\n",
        "            score = depth_limited_expectimax(child, depth - 1)\n",
        "            avg_score += score\n",
        "            num_children += 1\n",
        "        return avg_score / num_children\n",
        "\n",
        "```"
      ],
      "metadata": {
        "id": "tkvvVxvSiq9T"
      }
    },
    {
      "cell_type": "code",
      "source": [
        "import random\n",
        "\n",
        "class RollTheDice:\n",
        "    def __init__(self):\n",
        "        self.player_score = 0\n",
        "        self.opponent_score = 0\n",
        "        self.turn = 'player'\n",
        "\n",
        "    def is_game_over(self):\n",
        "        return self.player_score >= 25 or self.opponent_score >= 25\n",
        "\n",
        "    def evaluate(self):\n",
        "        return self.player_score - self.opponent_score\n",
        "\n",
        "    def get_possible_actions(self):\n",
        "        return ['roll']\n",
        "\n",
        "    def apply_action(self, action):\n",
        "        if action == 'roll':\n",
        "            if self.turn == 'player':\n",
        "                self.player_score += random.randint(1, 6)\n",
        "                self.turn = 'opponent'\n",
        "            else:\n",
        "                self.opponent_score += random.randint(1, 6)\n",
        "                self.turn = 'player'\n",
        "        return self\n",
        "\n",
        "def expectimax(state, depth, player):\n",
        "    if state.is_game_over() or depth == 0:\n",
        "        return state.evaluate(), None\n",
        "\n",
        "    if player == 'player':\n",
        "      #ENTER CODE FOR MAXIMIZING PLAYER\n",
        "      pass\n",
        "\n",
        "    else:\n",
        "      #ENTER CODE HERE FOR CHANCE PLAYER\n",
        "      pass\n",
        "\n",
        "\n",
        "game = RollTheDice()\n",
        "while not game.is_game_over():\n",
        "    if game.turn == 'player':\n",
        "        print(\"Your score:\", game.player_score)\n",
        "        print(\"Opponent score:\", game.opponent_score)\n",
        "        action = input(\"Roll? \")\n",
        "    else:\n",
        "        _, action = expectimax(game, depth=3, player='opponent')\n",
        "        print(\"Opponent rolled.\")\n",
        "    game.apply_action(action)\n",
        "\n",
        "if game.player_score >= 25:\n",
        "    print(\"You win!\")\n",
        "else:\n",
        "    print(\"You lose.\")\n"
      ],
      "metadata": {
        "id": "aLBQbO6JTMtu"
      },
      "execution_count": null,
      "outputs": []
    }
  ]
}